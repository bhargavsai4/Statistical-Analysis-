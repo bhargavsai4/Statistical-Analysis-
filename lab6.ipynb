{
 "cells": [
  {
   "cell_type": "markdown",
   "id": "a9a4939f-ef0f-44b0-9bef-3e8951971e66",
   "metadata": {},
   "source": [
    "# Loading the wine Dataset"
   ]
  },
  {
   "cell_type": "code",
   "execution_count": 11,
   "id": "4f3cdd1d-46fe-4a0b-9426-e6995e05422c",
   "metadata": {},
   "outputs": [
    {
     "name": "stdout",
     "output_type": "stream",
     "text": [
      "   alcohol  malic_acid   ash  alcalinity_of_ash  magnesium  total_phenols  \\\n",
      "0    14.23        1.71  2.43               15.6      127.0           2.80   \n",
      "1    13.20        1.78  2.14               11.2      100.0           2.65   \n",
      "2    13.16        2.36  2.67               18.6      101.0           2.80   \n",
      "3    14.37        1.95  2.50               16.8      113.0           3.85   \n",
      "4    13.24        2.59  2.87               21.0      118.0           2.80   \n",
      "\n",
      "   flavanoids  nonflavanoid_phenols  proanthocyanins  color_intensity   hue  \\\n",
      "0        3.06                  0.28             2.29             5.64  1.04   \n",
      "1        2.76                  0.26             1.28             4.38  1.05   \n",
      "2        3.24                  0.30             2.81             5.68  1.03   \n",
      "3        3.49                  0.24             2.18             7.80  0.86   \n",
      "4        2.69                  0.39             1.82             4.32  1.04   \n",
      "\n",
      "   od280/od315_of_diluted_wines  proline  target  \n",
      "0                          3.92   1065.0       0  \n",
      "1                          3.40   1050.0       0  \n",
      "2                          3.17   1185.0       0  \n",
      "3                          3.45   1480.0       0  \n",
      "4                          2.93    735.0       0  \n"
     ]
    }
   ],
   "source": [
    "import pandas as pd\n",
    "from sklearn.datasets import load_wine\n",
    "\n",
    "wine = load_wine()\n",
    "df = pd.DataFrame(data=wine.data, columns=wine.feature_names)\n",
    "df['target'] = wine.target\n",
    "\n",
    "print(df.head())"
   ]
  },
  {
   "cell_type": "markdown",
   "id": "2e7bcfae-bb74-4f8f-82fd-ef8e1ae2aa3f",
   "metadata": {},
   "source": [
    "# Performing Descriptive Statistics"
   ]
  },
  {
   "cell_type": "code",
   "execution_count": 3,
   "id": "c4c217b6-2b5c-4c05-8a06-f8acdc2bb57f",
   "metadata": {},
   "outputs": [
    {
     "name": "stdout",
     "output_type": "stream",
     "text": [
      "Mean:\n",
      " alcohol                          13.000618\n",
      "malic_acid                        2.336348\n",
      "ash                               2.366517\n",
      "alcalinity_of_ash                19.494944\n",
      "magnesium                        99.741573\n",
      "total_phenols                     2.295112\n",
      "flavanoids                        2.029270\n",
      "nonflavanoid_phenols              0.361854\n",
      "proanthocyanins                   1.590899\n",
      "color_intensity                   5.058090\n",
      "hue                               0.957449\n",
      "od280/od315_of_diluted_wines      2.611685\n",
      "proline                         746.893258\n",
      "target                            0.938202\n",
      "dtype: float64\n",
      "\n",
      "Median:\n",
      " alcohol                          13.050\n",
      "malic_acid                        1.865\n",
      "ash                               2.360\n",
      "alcalinity_of_ash                19.500\n",
      "magnesium                        98.000\n",
      "total_phenols                     2.355\n",
      "flavanoids                        2.135\n",
      "nonflavanoid_phenols              0.340\n",
      "proanthocyanins                   1.555\n",
      "color_intensity                   4.690\n",
      "hue                               0.965\n",
      "od280/od315_of_diluted_wines      2.780\n",
      "proline                         673.500\n",
      "target                            1.000\n",
      "dtype: float64\n",
      "\n",
      "Mode:\n",
      " alcohol                          12.37\n",
      "malic_acid                        1.73\n",
      "ash                               2.28\n",
      "alcalinity_of_ash                20.00\n",
      "magnesium                        88.00\n",
      "total_phenols                     2.20\n",
      "flavanoids                        2.65\n",
      "nonflavanoid_phenols              0.26\n",
      "proanthocyanins                   1.35\n",
      "color_intensity                   2.60\n",
      "hue                               1.04\n",
      "od280/od315_of_diluted_wines      2.87\n",
      "proline                         520.00\n",
      "target                            1.00\n",
      "Name: 0, dtype: float64\n",
      "\n",
      "Standard Deviation:\n",
      " alcohol                           0.811827\n",
      "malic_acid                        1.117146\n",
      "ash                               0.274344\n",
      "alcalinity_of_ash                 3.339564\n",
      "magnesium                        14.282484\n",
      "total_phenols                     0.625851\n",
      "flavanoids                        0.998859\n",
      "nonflavanoid_phenols              0.124453\n",
      "proanthocyanins                   0.572359\n",
      "color_intensity                   2.318286\n",
      "hue                               0.228572\n",
      "od280/od315_of_diluted_wines      0.709990\n",
      "proline                         314.907474\n",
      "target                            0.775035\n",
      "dtype: float64\n",
      "\n",
      "Variance:\n",
      " alcohol                             0.659062\n",
      "malic_acid                          1.248015\n",
      "ash                                 0.075265\n",
      "alcalinity_of_ash                  11.152686\n",
      "magnesium                         203.989335\n",
      "total_phenols                       0.391690\n",
      "flavanoids                          0.997719\n",
      "nonflavanoid_phenols                0.015489\n",
      "proanthocyanins                     0.327595\n",
      "color_intensity                     5.374449\n",
      "hue                                 0.052245\n",
      "od280/od315_of_diluted_wines        0.504086\n",
      "proline                         99166.717355\n",
      "target                              0.600679\n",
      "dtype: float64\n",
      "\n",
      "Range:\n",
      " alcohol                            3.80\n",
      "malic_acid                         5.06\n",
      "ash                                1.87\n",
      "alcalinity_of_ash                 19.40\n",
      "magnesium                         92.00\n",
      "total_phenols                      2.90\n",
      "flavanoids                         4.74\n",
      "nonflavanoid_phenols               0.53\n",
      "proanthocyanins                    3.17\n",
      "color_intensity                   11.72\n",
      "hue                                1.23\n",
      "od280/od315_of_diluted_wines       2.73\n",
      "proline                         1402.00\n",
      "target                             2.00\n",
      "dtype: float64\n",
      "\n",
      "Skewness:\n",
      " alcohol                        -0.051482\n",
      "malic_acid                      1.039651\n",
      "ash                            -0.176699\n",
      "alcalinity_of_ash               0.213047\n",
      "magnesium                       1.098191\n",
      "total_phenols                   0.086639\n",
      "flavanoids                      0.025344\n",
      "nonflavanoid_phenols            0.450151\n",
      "proanthocyanins                 0.517137\n",
      "color_intensity                 0.868585\n",
      "hue                             0.021091\n",
      "od280/od315_of_diluted_wines   -0.307285\n",
      "proline                         0.767822\n",
      "target                          0.107431\n",
      "dtype: float64\n",
      "\n",
      "Kurtosis:\n",
      " alcohol                        -0.852500\n",
      "malic_acid                      0.299207\n",
      "ash                             1.143978\n",
      "alcalinity_of_ash               0.487942\n",
      "magnesium                       2.104991\n",
      "total_phenols                  -0.835627\n",
      "flavanoids                     -0.880382\n",
      "nonflavanoid_phenols           -0.637191\n",
      "proanthocyanins                 0.554649\n",
      "color_intensity                 0.381522\n",
      "hue                            -0.344096\n",
      "od280/od315_of_diluted_wines   -1.086435\n",
      "proline                        -0.248403\n",
      "target                         -1.322787\n",
      "dtype: float64\n"
     ]
    }
   ],
   "source": [
    "print(\"Mean:\\n\", df.mean())\n",
    "print(\"\\nMedian:\\n\", df.median())\n",
    "print(\"\\nMode:\\n\", df.mode().iloc[0])\n",
    "print(\"\\nStandard Deviation:\\n\", df.std())\n",
    "print(\"\\nVariance:\\n\", df.var())\n",
    "\n",
    "\n",
    "print(\"\\nRange:\\n\", df.max() - df.min())\n",
    "print(\"\\nSkewness:\\n\", df.skew())\n",
    "print(\"\\nKurtosis:\\n\", df.kurt())"
   ]
  },
  {
   "cell_type": "markdown",
   "id": "36237318-6736-4d7f-866d-6455c690bd68",
   "metadata": {},
   "source": [
    "# Performing Inferential Statistics"
   ]
  },
  {
   "cell_type": "code",
   "execution_count": 2,
   "id": "2f784b14-b7a3-4b5f-a7fc-006cbf91f9c8",
   "metadata": {},
   "outputs": [
    {
     "name": "stdout",
     "output_type": "stream",
     "text": [
      "   alcohol  malic_acid   ash  alcalinity_of_ash  magnesium  total_phenols  \\\n",
      "0    14.23        1.71  2.43               15.6      127.0           2.80   \n",
      "1    13.20        1.78  2.14               11.2      100.0           2.65   \n",
      "2    13.16        2.36  2.67               18.6      101.0           2.80   \n",
      "3    14.37        1.95  2.50               16.8      113.0           3.85   \n",
      "4    13.24        2.59  2.87               21.0      118.0           2.80   \n",
      "\n",
      "   flavanoids  nonflavanoid_phenols  proanthocyanins  color_intensity   hue  \\\n",
      "0        3.06                  0.28             2.29             5.64  1.04   \n",
      "1        2.76                  0.26             1.28             4.38  1.05   \n",
      "2        3.24                  0.30             2.81             5.68  1.03   \n",
      "3        3.49                  0.24             2.18             7.80  0.86   \n",
      "4        2.69                  0.39             1.82             4.32  1.04   \n",
      "\n",
      "   od280/od315_of_diluted_wines  proline  target  \n",
      "0                          3.92   1065.0       0  \n",
      "1                          3.40   1050.0       0  \n",
      "2                          3.17   1185.0       0  \n",
      "3                          3.45   1480.0       0  \n",
      "4                          2.93    735.0       0  \n"
     ]
    }
   ],
   "source": [
    "import pandas as pd\n",
    "from sklearn.datasets import load_wine\n",
    "wine = load_wine()\n",
    "df = pd.DataFrame(data=wine.data, columns=wine.feature_names)\n",
    "df['target'] = wine.target\n",
    "print(df.head())"
   ]
  },
  {
   "cell_type": "markdown",
   "id": "71f0e860-b2e8-410b-8859-662470e8c192",
   "metadata": {},
   "source": [
    "# Confidence Intervals"
   ]
  },
  {
   "cell_type": "code",
   "execution_count": 4,
   "id": "6129d9c5-8f48-4c33-865c-2080c50ce344",
   "metadata": {},
   "outputs": [
    {
     "name": "stdout",
     "output_type": "stream",
     "text": [
      "T-Statistic: 0.01015592394800969\n",
      "P-Value: 0.9919083221024861\n"
     ]
    }
   ],
   "source": [
    "from scipy import stats\n",
    "\n",
    "alcohol_values = df['alcohol']\n",
    "population_mean = 13.0\n",
    "\n",
    "t_stat, p_value = stats.ttest_1samp(alcohol_values, population_mean)\n",
    "\n",
    "print(f\"T-Statistic: {t_stat}\")\n",
    "print(f\"P-Value: {p_value}\")\n"
   ]
  },
  {
   "cell_type": "markdown",
   "id": "2a34570e-bbca-4f52-a57e-62e9c19b0096",
   "metadata": {},
   "source": [
    "# 95% Confidence interval"
   ]
  },
  {
   "cell_type": "code",
   "execution_count": 5,
   "id": "21f87ac2-07fd-4772-a202-7456e5b2a9af",
   "metadata": {},
   "outputs": [
    {
     "name": "stdout",
     "output_type": "stream",
     "text": [
      "95% Confidence Interval for alcohol: (12.881356184655965, 13.119879770400216)\n"
     ]
    }
   ],
   "source": [
    "import numpy as np\n",
    "from scipy import stats\n",
    "\n",
    "sample_mean = np.mean(alcohol_values)\n",
    "standard_error = stats.sem(alcohol_values)\n",
    "\n",
    "confidence_interval = stats.norm.interval(0.95, loc=sample_mean, scale=standard_error)\n",
    "\n",
    "print(f\"95% Confidence Interval for alcohol: {confidence_interval}\")\n"
   ]
  },
  {
   "cell_type": "markdown",
   "id": "5a638230-eaa2-4f6f-b693-236fcb74fcef",
   "metadata": {},
   "source": [
    "# Regression Analysis"
   ]
  },
  {
   "cell_type": "code",
   "execution_count": 6,
   "id": "83ec8b7e-9281-4d82-9caa-1dd5dc5ab7af",
   "metadata": {},
   "outputs": [
    {
     "name": "stdout",
     "output_type": "stream",
     "text": [
      "                            OLS Regression Results                            \n",
      "==============================================================================\n",
      "Dep. Variable:                 target   R-squared:                       0.108\n",
      "Model:                            OLS   Adj. R-squared:                  0.103\n",
      "Method:                 Least Squares   F-statistic:                     21.25\n",
      "Date:                Sun, 08 Sep 2024   Prob (F-statistic):           7.72e-06\n",
      "Time:                        20:24:46   Log-Likelihood:                -196.56\n",
      "No. Observations:                 178   AIC:                             397.1\n",
      "Df Residuals:                     176   BIC:                             403.5\n",
      "Df Model:                           1                                         \n",
      "Covariance Type:            nonrobust                                         \n",
      "==============================================================================\n",
      "                 coef    std err          t      P>|t|      [0.025      0.975]\n",
      "------------------------------------------------------------------------------\n",
      "const          5.0119      0.885      5.660      0.000       3.264       6.759\n",
      "alcohol       -0.3133      0.068     -4.610      0.000      -0.447      -0.179\n",
      "==============================================================================\n",
      "Omnibus:                       40.763   Durbin-Watson:                   0.101\n",
      "Prob(Omnibus):                  0.000   Jarque-Bera (JB):               20.233\n",
      "Skew:                           0.659   Prob(JB):                     4.04e-05\n",
      "Kurtosis:                       2.004   Cond. No.                         211.\n",
      "==============================================================================\n",
      "\n",
      "Notes:\n",
      "[1] Standard Errors assume that the covariance matrix of the errors is correctly specified.\n"
     ]
    }
   ],
   "source": [
    "import statsmodels.api as sm\n",
    "\n",
    "X = sm.add_constant(df['alcohol'])\n",
    "y = df['target']\n",
    "\n",
    "model = sm.OLS(y, X).fit()\n",
    "\n",
    "print(model.summary())\n"
   ]
  },
  {
   "cell_type": "markdown",
   "id": "0f329340-07b2-4980-aebc-fe397b8bf0ae",
   "metadata": {},
   "source": [
    "import matplotlib.pyplot as plt\r\n",
    "import seaborn as sns\r\n",
    "\r\n",
    "sns.scatterplot(x='alcohol', y='target', data=df, color='blue', label='Data points')\r\n",
    "plt.plot(df['alcohol'], model.predict(X), color='red', label='Regression line')\r\n",
    "plt.title('Alcohol vs Target')\r\n",
    "plt.xlabel('Alcohol')\r\n",
    "plt.ylabel('Target')\r\n",
    "plt.legend()\r\n",
    "plt.show()\r\n"
   ]
  },
  {
   "cell_type": "markdown",
   "id": "a27a49f3-1807-4eef-9dab-72ba33af8f19",
   "metadata": {},
   "source": [
    "# Visualization Analysis"
   ]
  },
  {
   "cell_type": "code",
   "execution_count": 8,
   "id": "ce84cf21-72d4-483f-8f36-aa2b83969a5f",
   "metadata": {},
   "outputs": [
    {
     "data": {
      "image/png": "[encoded data removed]",
      "text/plain": [
       "<Figure size 640x480 with 1 Axes>"
      ]
     },
     "metadata": {},
     "output_type": "display_data"
    }
   ],
   "source": [
    "import matplotlib.pyplot as plt\n",
    "import seaborn as sns\n",
    "\n",
    "sns.scatterplot(x='alcohol', y='malic_acid', data=df, color='blue', label='Data points')\n",
    "plt.plot(df['alcohol'], model.predict(X), color='red', label='Regression line')\n",
    "plt.title('Alcohol vs Malic Acid')\n",
    "plt.xlabel('Alcohol')\n",
    "plt.ylabel('Malic Acid')\n",
    "plt.legend()\n",
    "plt.show()\n"
   ]
  },
  {
   "cell_type": "markdown",
   "id": "81795087-fc00-4fbc-8475-912cb9baf175",
   "metadata": {},
   "source": [
    "# Conclusion:"
   ]
  },
  {
   "cell_type": "markdown",
   "id": "57c5308f-2202-4e77-9d0c-1d5fb5e56044",
   "metadata": {},
   "source": [
    "The wine dataset provides a rich set of features for multivariate analysis. In the example with alcohol and malic_acid, a linear regression model helps explore relationships between specific chemical properties. More sophisticated models, such as logistic regression or decision trees, can be used to classify wines based on their chemical composition. The dataset is ideal for practicing feature selection, regression analysis, and classification techniques."
   ]
  },
  {
   "cell_type": "code",
   "execution_count": null,
   "id": "309dc699-9bc9-47b5-857b-4a65177f4836",
   "metadata": {},
   "outputs": [],
   "source": []
  }
 ],
 "metadata": {
  "kernelspec": {
   "display_name": "Python 3 (ipykernel)",
   "language": "python",
   "name": "python3"
  },
  "language_info": {
   "codemirror_mode": {
    "name": "ipython",
    "version": 3
   },
   "file_extension": ".py",
   "mimetype": "text/x-python",
   "name": "python",
   "nbconvert_exporter": "python",
   "pygments_lexer": "ipython3",
   "version": "3.12.4"
  }
 },
 "nbformat": 4,
 "nbformat_minor": 5
}
